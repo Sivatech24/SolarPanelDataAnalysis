{
 "cells": [
  {
   "cell_type": "markdown",
   "id": "9b8313b0-7c31-44a8-a057-dfb26439b492",
   "metadata": {},
   "source": [
    "# hyperparameter tuning process"
   ]
  },
  {
   "cell_type": "code",
   "execution_count": 1,
   "id": "15837e1e-0e63-4193-8c42-659b7362b6ec",
   "metadata": {},
   "outputs": [],
   "source": [
    "import pandas as pd\n",
    "from sklearn.ensemble import RandomForestClassifier\n",
    "from sklearn.model_selection import train_test_split, GridSearchCV\n",
    "from sklearn.metrics import classification_report, accuracy_score"
   ]
  },
  {
   "cell_type": "code",
   "execution_count": 3,
   "id": "c0282321-a26e-4021-ba7c-d7b5ef505264",
   "metadata": {},
   "outputs": [],
   "source": [
    "# Load the datasets\n",
    "plant_1_data = pd.read_csv('/Users/tech/Documents/Jupyter Notebook/DataSet/SolarPower/Plant_1_Generation_Data.csv')\n",
    "plant_2_data = pd.read_csv('/Users/tech/Documents/Jupyter Notebook/DataSet/SolarPower/Plant_2_Generation_Data.csv')"
   ]
  },
  {
   "cell_type": "code",
   "execution_count": 4,
   "id": "a425e500-7c00-4e85-9bf0-0266ac6c22ad",
   "metadata": {},
   "outputs": [],
   "source": [
    "# Function to preprocess data and perform hyperparameter tuning\n",
    "def tune_hyperparameters(data, plant_name):\n",
    "    # Handle missing values\n",
    "    data.fillna(method='ffill', inplace=True)\n",
    "\n",
    "    # Define a threshold for inverter failure\n",
    "    threshold = 100  # Adjust as necessary based on domain knowledge\n",
    "    data['target'] = (data['AC_POWER'] < threshold).astype(int)\n",
    "\n",
    "    # Select features\n",
    "    features = ['DC_POWER', 'DAILY_YIELD', 'TOTAL_YIELD']\n",
    "    X = data[features]\n",
    "    y = data['target']\n",
    "\n",
    "    # Split the data into training and test sets\n",
    "    X_train, X_test, y_train, y_test = train_test_split(X, y, test_size=0.2, random_state=42)\n",
    "\n",
    "    # Define the model\n",
    "    model = RandomForestClassifier(random_state=42)\n",
    "\n",
    "    # Set up the parameter grid for hyperparameter tuning\n",
    "    param_grid = {\n",
    "        'n_estimators': [100, 200, 300],\n",
    "        'max_depth': [None, 10, 20, 30],\n",
    "        'min_samples_split': [2, 5, 10],\n",
    "        'min_samples_leaf': [1, 2, 4],\n",
    "        'max_features': ['auto', 'sqrt']\n",
    "    }\n",
    "\n",
    "    # Initialize Grid Search\n",
    "    grid_search = GridSearchCV(estimator=model, param_grid=param_grid, \n",
    "                               cv=5, n_jobs=-1, scoring='accuracy', verbose=2)\n",
    "\n",
    "    # Fit Grid Search\n",
    "    grid_search.fit(X_train, y_train)\n",
    "\n",
    "    # Print the best parameters\n",
    "    print(f\"Best Parameters for {plant_name}:\", grid_search.best_params_)\n",
    "    print(f\"Best Cross-Validation Score for {plant_name}:\", grid_search.best_score_)\n",
    "\n",
    "    # Evaluate the best model on the test set\n",
    "    best_model = grid_search.best_estimator_\n",
    "    y_pred = best_model.predict(X_test)\n",
    "\n",
    "    # Print evaluation metrics\n",
    "    print(f\"Test Set Evaluation for {plant_name}:\")\n",
    "    print(\"Accuracy:\", accuracy_score(y_test, y_pred))\n",
    "    print(classification_report(y_test, y_pred))"
   ]
  },
  {
   "cell_type": "code",
   "execution_count": 5,
   "id": "5d3dd4b9-dfa7-479a-8d43-f863f666be4b",
   "metadata": {},
   "outputs": [
    {
     "name": "stderr",
     "output_type": "stream",
     "text": [
      "C:\\Users\\tech\\AppData\\Local\\Temp\\ipykernel_4468\\281939544.py:4: FutureWarning: DataFrame.fillna with 'method' is deprecated and will raise in a future version. Use obj.ffill() or obj.bfill() instead.\n",
      "  data.fillna(method='ffill', inplace=True)\n"
     ]
    },
    {
     "name": "stdout",
     "output_type": "stream",
     "text": [
      "Fitting 5 folds for each of 216 candidates, totalling 1080 fits\n"
     ]
    },
    {
     "name": "stderr",
     "output_type": "stream",
     "text": [
      "C:\\anaconda\\Lib\\site-packages\\sklearn\\model_selection\\_validation.py:547: FitFailedWarning: \n",
      "540 fits failed out of a total of 1080.\n",
      "The score on these train-test partitions for these parameters will be set to nan.\n",
      "If these failures are not expected, you can try to debug them by setting error_score='raise'.\n",
      "\n",
      "Below are more details about the failures:\n",
      "--------------------------------------------------------------------------------\n",
      "217 fits failed with the following error:\n",
      "Traceback (most recent call last):\n",
      "  File \"C:\\anaconda\\Lib\\site-packages\\sklearn\\model_selection\\_validation.py\", line 895, in _fit_and_score\n",
      "    estimator.fit(X_train, y_train, **fit_params)\n",
      "  File \"C:\\anaconda\\Lib\\site-packages\\sklearn\\base.py\", line 1467, in wrapper\n",
      "    estimator._validate_params()\n",
      "  File \"C:\\anaconda\\Lib\\site-packages\\sklearn\\base.py\", line 666, in _validate_params\n",
      "    validate_parameter_constraints(\n",
      "  File \"C:\\anaconda\\Lib\\site-packages\\sklearn\\utils\\_param_validation.py\", line 95, in validate_parameter_constraints\n",
      "    raise InvalidParameterError(\n",
      "sklearn.utils._param_validation.InvalidParameterError: The 'max_features' parameter of RandomForestClassifier must be an int in the range [1, inf), a float in the range (0.0, 1.0], a str among {'log2', 'sqrt'} or None. Got 'auto' instead.\n",
      "\n",
      "--------------------------------------------------------------------------------\n",
      "323 fits failed with the following error:\n",
      "Traceback (most recent call last):\n",
      "  File \"C:\\anaconda\\Lib\\site-packages\\sklearn\\model_selection\\_validation.py\", line 895, in _fit_and_score\n",
      "    estimator.fit(X_train, y_train, **fit_params)\n",
      "  File \"C:\\anaconda\\Lib\\site-packages\\sklearn\\base.py\", line 1467, in wrapper\n",
      "    estimator._validate_params()\n",
      "  File \"C:\\anaconda\\Lib\\site-packages\\sklearn\\base.py\", line 666, in _validate_params\n",
      "    validate_parameter_constraints(\n",
      "  File \"C:\\anaconda\\Lib\\site-packages\\sklearn\\utils\\_param_validation.py\", line 95, in validate_parameter_constraints\n",
      "    raise InvalidParameterError(\n",
      "sklearn.utils._param_validation.InvalidParameterError: The 'max_features' parameter of RandomForestClassifier must be an int in the range [1, inf), a float in the range (0.0, 1.0], a str among {'sqrt', 'log2'} or None. Got 'auto' instead.\n",
      "\n",
      "  warnings.warn(some_fits_failed_message, FitFailedWarning)\n",
      "C:\\anaconda\\Lib\\site-packages\\sklearn\\model_selection\\_search.py:1051: UserWarning: One or more of the test scores are non-finite: [       nan        nan        nan        nan        nan        nan\n",
      "        nan        nan        nan        nan        nan        nan\n",
      "        nan        nan        nan        nan        nan        nan\n",
      "        nan        nan        nan        nan        nan        nan\n",
      "        nan        nan        nan 0.99994548 0.99994548 0.99994548\n",
      " 0.99994548 0.99994548 0.99994548 0.99994548 0.99994548 0.99994548\n",
      " 0.99994548 0.99994548 0.99994548 0.99994548 0.99994548 0.99994548\n",
      " 0.99994548 0.99994548 0.99994548 0.99994548 0.99994548 0.99994548\n",
      " 0.99994548 0.99994548 0.99994548 0.99994548 0.99994548 0.99994548\n",
      "        nan        nan        nan        nan        nan        nan\n",
      "        nan        nan        nan        nan        nan        nan\n",
      "        nan        nan        nan        nan        nan        nan\n",
      "        nan        nan        nan        nan        nan        nan\n",
      "        nan        nan        nan 0.99994548 0.99994548 0.99994548\n",
      " 0.99994548 0.99994548 0.99994548 0.99994548 0.99994548 0.99994548\n",
      " 0.99994548 0.99994548 0.99994548 0.99994548 0.99994548 0.99994548\n",
      " 0.99994548 0.99994548 0.99994548 0.99994548 0.99994548 0.99994548\n",
      " 0.99994548 0.99994548 0.99994548 0.99994548 0.99994548 0.99994548\n",
      "        nan        nan        nan        nan        nan        nan\n",
      "        nan        nan        nan        nan        nan        nan\n",
      "        nan        nan        nan        nan        nan        nan\n",
      "        nan        nan        nan        nan        nan        nan\n",
      "        nan        nan        nan 0.99994548 0.99994548 0.99994548\n",
      " 0.99994548 0.99994548 0.99994548 0.99994548 0.99994548 0.99994548\n",
      " 0.99994548 0.99994548 0.99994548 0.99994548 0.99994548 0.99994548\n",
      " 0.99994548 0.99994548 0.99994548 0.99994548 0.99994548 0.99994548\n",
      " 0.99994548 0.99994548 0.99994548 0.99994548 0.99994548 0.99994548\n",
      "        nan        nan        nan        nan        nan        nan\n",
      "        nan        nan        nan        nan        nan        nan\n",
      "        nan        nan        nan        nan        nan        nan\n",
      "        nan        nan        nan        nan        nan        nan\n",
      "        nan        nan        nan 0.99994548 0.99994548 0.99994548\n",
      " 0.99994548 0.99994548 0.99994548 0.99994548 0.99994548 0.99994548\n",
      " 0.99994548 0.99994548 0.99994548 0.99994548 0.99994548 0.99994548\n",
      " 0.99994548 0.99994548 0.99994548 0.99994548 0.99994548 0.99994548\n",
      " 0.99994548 0.99994548 0.99994548 0.99994548 0.99994548 0.99994548]\n",
      "  warnings.warn(\n"
     ]
    },
    {
     "name": "stdout",
     "output_type": "stream",
     "text": [
      "Best Parameters for Plant 1: {'max_depth': None, 'max_features': 'sqrt', 'min_samples_leaf': 1, 'min_samples_split': 2, 'n_estimators': 100}\n",
      "Best Cross-Validation Score for Plant 1: 0.9999454776760374\n",
      "Test Set Evaluation for Plant 1:\n",
      "Accuracy: 1.0\n",
      "              precision    recall  f1-score   support\n",
      "\n",
      "           0       1.00      1.00      1.00      6362\n",
      "           1       1.00      1.00      1.00      7394\n",
      "\n",
      "    accuracy                           1.00     13756\n",
      "   macro avg       1.00      1.00      1.00     13756\n",
      "weighted avg       1.00      1.00      1.00     13756\n",
      "\n"
     ]
    }
   ],
   "source": [
    "# Tune hyperparameters for Plant 1\n",
    "tune_hyperparameters(plant_1_data, \"Plant 1\")"
   ]
  },
  {
   "cell_type": "code",
   "execution_count": null,
   "id": "cf4d3f6e-d7ff-401a-a09d-401043e8edb1",
   "metadata": {},
   "outputs": [],
   "source": [
    "# Tune hyperparameters for Plant 2\n",
    "tune_hyperparameters(plant_2_data, \"Plant 2\")"
   ]
  }
 ],
 "metadata": {
  "kernelspec": {
   "display_name": "Python 3 (ipykernel)",
   "language": "python",
   "name": "python3"
  },
  "language_info": {
   "codemirror_mode": {
    "name": "ipython",
    "version": 3
   },
   "file_extension": ".py",
   "mimetype": "text/x-python",
   "name": "python",
   "nbconvert_exporter": "python",
   "pygments_lexer": "ipython3",
   "version": "3.12.4"
  }
 },
 "nbformat": 4,
 "nbformat_minor": 5
}
