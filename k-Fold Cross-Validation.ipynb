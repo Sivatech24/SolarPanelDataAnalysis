{
 "cells": [
  {
   "cell_type": "markdown",
   "id": "f4352a76-4247-41fc-a017-1d3eec43860a",
   "metadata": {},
   "source": [
    "# k-Fold Cross-Validation"
   ]
  },
  {
   "cell_type": "code",
   "execution_count": 1,
   "id": "45bf27f8-7d7e-4137-8e4f-b2f73b02eac4",
   "metadata": {},
   "outputs": [],
   "source": [
    "import pandas as pd\n",
    "from sklearn.ensemble import RandomForestClassifier\n",
    "from sklearn.model_selection import train_test_split, cross_val_score\n",
    "from sklearn.metrics import classification_report, accuracy_score"
   ]
  },
  {
   "cell_type": "code",
   "execution_count": 2,
   "id": "ab08f82d-4746-4468-8b74-ea33e85f0a51",
   "metadata": {},
   "outputs": [],
   "source": [
    "# Load datasets\n",
    "dataset_1 = pd.read_csv('/Users/tech/Documents/Jupyter Notebook/DataSet/SolarPower/Plant_1_Generation_Data.csv')\n",
    "dataset_2 = pd.read_csv('/Users/tech/Documents/Jupyter Notebook/DataSet/SolarPower/Plant_2_Generation_Data.csv')"
   ]
  },
  {
   "cell_type": "code",
   "execution_count": 3,
   "id": "0f1bd1f1-bd4e-4583-816e-d4342501b026",
   "metadata": {},
   "outputs": [
    {
     "name": "stderr",
     "output_type": "stream",
     "text": [
      "C:\\Users\\tech\\AppData\\Local\\Temp\\ipykernel_4828\\4150315964.py:2: FutureWarning: DataFrame.fillna with 'method' is deprecated and will raise in a future version. Use obj.ffill() or obj.bfill() instead.\n",
      "  dataset_1.fillna(method='ffill', inplace=True)\n",
      "C:\\Users\\tech\\AppData\\Local\\Temp\\ipykernel_4828\\4150315964.py:3: FutureWarning: DataFrame.fillna with 'method' is deprecated and will raise in a future version. Use obj.ffill() or obj.bfill() instead.\n",
      "  dataset_2.fillna(method='ffill', inplace=True)\n"
     ]
    }
   ],
   "source": [
    "# Handle missing values\n",
    "dataset_1.fillna(method='ffill', inplace=True)\n",
    "dataset_2.fillna(method='ffill', inplace=True)"
   ]
  },
  {
   "cell_type": "code",
   "execution_count": 4,
   "id": "acee23bd-0c6e-49f4-a871-bfcdfe44d18f",
   "metadata": {},
   "outputs": [],
   "source": [
    "# Define a threshold for inverter failure\n",
    "threshold = 100  # Adjust based on your domain knowledge\n",
    "dataset_1['target'] = (dataset_1['AC_POWER'] < threshold).astype(int)\n",
    "dataset_2['target'] = (dataset_2['AC_POWER'] < threshold).astype(int)"
   ]
  },
  {
   "cell_type": "code",
   "execution_count": 5,
   "id": "5881d53e-bfcc-4ef7-8265-e0d15fd52a03",
   "metadata": {},
   "outputs": [],
   "source": [
    "# Select features\n",
    "features = ['DC_POWER', 'DAILY_YIELD', 'TOTAL_YIELD']\n",
    "X1 = dataset_1[features]\n",
    "y1 = dataset_1['target']\n",
    "X2 = dataset_2[features]\n",
    "y2 = dataset_2['target']"
   ]
  },
  {
   "cell_type": "code",
   "execution_count": 6,
   "id": "f11451d1-85f9-424b-944c-8f589d381984",
   "metadata": {},
   "outputs": [],
   "source": [
    "# Initialize the Random Forest model\n",
    "model1 = RandomForestClassifier(n_estimators=100, random_state=42)\n",
    "model2 = RandomForestClassifier(n_estimators=100, random_state=42)"
   ]
  },
  {
   "cell_type": "code",
   "execution_count": 7,
   "id": "fe3e3396-7d6c-4de1-a3dd-dd05564724ce",
   "metadata": {},
   "outputs": [
    {
     "name": "stdout",
     "output_type": "stream",
     "text": [
      "Dataset 1 k-Fold Cross-Validation Scores: [0.9999273 0.9999273 1.        1.        1.       ]\n",
      "Average k-Fold Accuracy for Dataset 1: 0.9999709217795871\n"
     ]
    }
   ],
   "source": [
    "# Implement k-fold cross-validation for dataset 1\n",
    "cv_scores1 = cross_val_score(model1, X1, y1, cv=5)  # 5-fold cross-validation\n",
    "print(\"Dataset 1 k-Fold Cross-Validation Scores:\", cv_scores1)\n",
    "print(\"Average k-Fold Accuracy for Dataset 1:\", cv_scores1.mean())"
   ]
  },
  {
   "cell_type": "code",
   "execution_count": 8,
   "id": "41bd002b-b366-4709-b3c8-3ea7fa849481",
   "metadata": {},
   "outputs": [
    {
     "name": "stdout",
     "output_type": "stream",
     "text": [
      "Dataset 2 k-Fold Cross-Validation Scores: [1.         1.         1.         0.99992614 0.99992614]\n",
      "Average k-Fold Accuracy for Dataset 2: 0.9999704557205111\n"
     ]
    }
   ],
   "source": [
    "# Implement k-fold cross-validation for dataset 2\n",
    "cv_scores2 = cross_val_score(model2, X2, y2, cv=5)  # 5-fold cross-validation\n",
    "print(\"Dataset 2 k-Fold Cross-Validation Scores:\", cv_scores2)\n",
    "print(\"Average k-Fold Accuracy for Dataset 2:\", cv_scores2.mean())"
   ]
  },
  {
   "cell_type": "code",
   "execution_count": null,
   "id": "d548fb2c-9eab-4279-96ba-2884e3ebd9e7",
   "metadata": {},
   "outputs": [],
   "source": []
  }
 ],
 "metadata": {
  "kernelspec": {
   "display_name": "Python 3 (ipykernel)",
   "language": "python",
   "name": "python3"
  },
  "language_info": {
   "codemirror_mode": {
    "name": "ipython",
    "version": 3
   },
   "file_extension": ".py",
   "mimetype": "text/x-python",
   "name": "python",
   "nbconvert_exporter": "python",
   "pygments_lexer": "ipython3",
   "version": "3.12.4"
  }
 },
 "nbformat": 4,
 "nbformat_minor": 5
}
